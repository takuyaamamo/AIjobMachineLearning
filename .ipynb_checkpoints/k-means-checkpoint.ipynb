{
 "cells": [
  {
   "cell_type": "markdown",
   "metadata": {},
   "source": [
    "# k-meansの実装\n",
    "- 距離ベースの教師なし学習、重心座標を2点決定し、その近傍サンプルでクラスタを構成する。次そのクラスタ内に重心を移動し、再度クラスタを行う。これを繰り返す。"
   ]
  },
  {
   "cell_type": "markdown",
   "metadata": {},
   "source": [
    "### データの準備"
   ]
  },
  {
   "cell_type": "code",
   "execution_count": 11,
   "metadata": {},
   "outputs": [
    {
     "name": "stdout",
     "output_type": "stream",
     "text": [
      "Generated data X:\n",
      "[[-6.04855297 -6.42001794]\n",
      " [-3.23594765 -4.59984279]\n",
      " [ 4.50420451  6.21657771]\n",
      " [ 2.11679102 -1.6108784 ]\n",
      " [ 4.26912641  3.35829677]]\n",
      "Generated data y:\n",
      "[0 0 2 1 2]\n"
     ]
    },
    {
     "data": {
      "text/plain": [
       "<matplotlib.axes._subplots.AxesSubplot at 0x7f375de6da90>"
      ]
     },
     "execution_count": 11,
     "metadata": {},
     "output_type": "execute_result"
    },
    {
     "data": {
      "image/png": "[encoded data removed]",
      "text/plain": [
       "<Figure size 216x216 with 1 Axes>"
      ]
     },
     "metadata": {
      "needs_background": "light"
     },
     "output_type": "display_data"
    }
   ],
   "source": [
    "import numpy as np\n",
    "import pandas as pd\n",
    "from sklearn.datasets import make_blobs\n",
    "import matplotlib.pyplot as plt\n",
    "\n",
    "X, labels_true = make_blobs(n_samples=1000,#サンプル数\n",
    "                           centers=[[-5,-5],[0,0],[5,5]],#クラスタ重心座標設定（3クラスタを2次元で作成）,\n",
    "                           cluster_std=1.0, #乱数生成時の標準偏差\n",
    "                           random_state=0)\n",
    "\n",
    "print('Generated data X:')\n",
    "print(X[:5])\n",
    "print('Generated data y:')\n",
    "print(labels_true[:5])\n",
    "\n",
    "# hstackで横に結合、行,列=(labels_trueの個数行,1列)にreshapeしている\n",
    "df = pd.DataFrame(np.hstack([X, labels_true.reshape(len(labels_true), 1)]),\n",
    "                 columns=['X0', 'X1', 'label'])\n",
    "\n",
    "col = df.label.map({0:'b', 1:'g', 2:'r'})\n",
    "df.plot(x='X0', y='X1', kind='scatter', c=col, colorbar=False, figsize=(3,3))"
   ]
  },
  {
   "cell_type": "markdown",
   "metadata": {},
   "source": [
    "### K-meansの実装"
   ]
  },
  {
   "cell_type": "code",
   "execution_count": 14,
   "metadata": {},
   "outputs": [
    {
     "name": "stdout",
     "output_type": "stream",
     "text": [
      "[ 0.02251074 -0.00666449] :Centroid-0 is a cluster Green\n",
      "[-1.20075939 -1.18599884] :Centroid-1 is a cluster Blue\n",
      "[1.18185453 1.19622489] :Centroid-2 is a cluster Red\n"
     ]
    }
   ],
   "source": [
    "from sklearn.cluster import KMeans\n",
    "from sklearn.preprocessing import StandardScaler\n",
    "\n",
    "# 今回はクラスタ数がわかっている為、n_clusters=3\n",
    "kmeans = KMeans(n_clusters=3, random_state=0)\n",
    "\n",
    "scl = StandardScaler()\n",
    "X_std = scl.fit_transform(X)\n",
    "kmeans.fit(X_std)\n",
    "\n",
    "print(kmeans.cluster_centers_[0], ':Centroid-0 is a cluster Green')\n",
    "print(kmeans.cluster_centers_[1], ':Centroid-1 is a cluster Blue')\n",
    "print(kmeans.cluster_centers_[2], ':Centroid-2 is a cluster Red')"
   ]
  },
  {
   "cell_type": "markdown",
   "metadata": {},
   "source": [
    "### 未知座標Xのクラスタ番号の予測を行う"
   ]
  },
  {
   "cell_type": "code",
   "execution_count": 16,
   "metadata": {},
   "outputs": [
    {
     "data": {
      "text/plain": [
       "array([1, 1, 2], dtype=int32)"
      ]
     },
     "execution_count": 16,
     "metadata": {},
     "output_type": "execute_result"
    }
   ],
   "source": [
    "kmeans.predict([[-6, -4],[-2, 0], [6, 8]])"
   ]
  },
  {
   "cell_type": "markdown",
   "metadata": {},
   "source": [
    "### kmeansのおけるクラスタ数の決定\n",
    "- エルボー法"
   ]
  },
  {
   "cell_type": "code",
   "execution_count": 20,
   "metadata": {},
   "outputs": [
    {
     "data": {
      "text/plain": [
       "[<matplotlib.lines.Line2D at 0x7f375922bc50>]"
      ]
     },
     "execution_count": 20,
     "metadata": {},
     "output_type": "execute_result"
    },
    {
     "data": {
      "image/png": "[encoded data removed]",
      "text/plain": [
       "<Figure size 432x288 with 1 Axes>"
      ]
     },
     "metadata": {
      "needs_background": "light"
     },
     "output_type": "display_data"
    }
   ],
   "source": [
    "distortions = []\n",
    "for i in range(1, 11):\n",
    "    km = KMeans(n_clusters=i, random_state=0).fit(X)\n",
    "    distortions.append(km.inertia_)\n",
    "    \n",
    "plt.plot(range(1, 11), distortions, marker='o')"
   ]
  },
  {
   "cell_type": "code",
   "execution_count": null,
   "metadata": {},
   "outputs": [],
   "source": []
  }
 ],
 "metadata": {
  "kernelspec": {
   "display_name": "Python 3",
   "language": "python",
   "name": "python3"
  },
  "language_info": {
   "codemirror_mode": {
    "name": "ipython",
    "version": 3
   },
   "file_extension": ".py",
   "mimetype": "text/x-python",
   "name": "python",
   "nbconvert_exporter": "python",
   "pygments_lexer": "ipython3",
   "version": "3.7.3"
  }
 },
 "nbformat": 4,
 "nbformat_minor": 2
}
