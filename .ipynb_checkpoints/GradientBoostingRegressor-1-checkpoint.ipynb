{
 "cells": [
  {
   "cell_type": "markdown",
   "metadata": {},
   "source": [
    "### サンプルデータの読み込み"
   ]
  },
  {
   "cell_type": "code",
   "execution_count": 22,
   "metadata": {},
   "outputs": [
    {
     "name": "stdout",
     "output_type": "stream",
     "text": [
      "dict_keys(['data', 'target', 'feature_names', 'DESCR', 'filename'])\n",
      "dataのshape： (506, 13)\n",
      "feature_namesのshape： (13,)\n",
      "-------------------------------\n",
      "X shape:(506, 13)\n",
      "-------------------------------\n",
      "count    506.000000\n",
      "mean      22.532806\n",
      "std        9.197104\n",
      "min        5.000000\n",
      "25%       17.025000\n",
      "50%       21.200000\n",
      "75%       25.000000\n",
      "max       50.000000\n",
      "Name: y, dtype: float64\n"
     ]
    },
    {
     "data": {
      "text/html": [
       "<div>\n",
       "<style scoped>\n",
       "    .dataframe tbody tr th:only-of-type {\n",
       "        vertical-align: middle;\n",
       "    }\n",
       "\n",
       "    .dataframe tbody tr th {\n",
       "        vertical-align: top;\n",
       "    }\n",
       "\n",
       "    .dataframe thead th {\n",
       "        text-align: right;\n",
       "    }\n",
       "</style>\n",
       "<table border=\"1\" class=\"dataframe\">\n",
       "  <thead>\n",
       "    <tr style=\"text-align: right;\">\n",
       "      <th></th>\n",
       "      <th>CRIM</th>\n",
       "      <th>ZN</th>\n",
       "      <th>INDUS</th>\n",
       "      <th>CHAS</th>\n",
       "      <th>NOX</th>\n",
       "      <th>RM</th>\n",
       "      <th>AGE</th>\n",
       "      <th>DIS</th>\n",
       "      <th>RAD</th>\n",
       "      <th>TAX</th>\n",
       "      <th>PTRATIO</th>\n",
       "      <th>B</th>\n",
       "      <th>LSTAT</th>\n",
       "      <th>y</th>\n",
       "    </tr>\n",
       "  </thead>\n",
       "  <tbody>\n",
       "    <tr>\n",
       "      <th>0</th>\n",
       "      <td>0.00632</td>\n",
       "      <td>18.0</td>\n",
       "      <td>2.31</td>\n",
       "      <td>0.0</td>\n",
       "      <td>0.538</td>\n",
       "      <td>6.575</td>\n",
       "      <td>65.2</td>\n",
       "      <td>4.0900</td>\n",
       "      <td>1.0</td>\n",
       "      <td>296.0</td>\n",
       "      <td>15.3</td>\n",
       "      <td>396.90</td>\n",
       "      <td>4.98</td>\n",
       "      <td>24.0</td>\n",
       "    </tr>\n",
       "    <tr>\n",
       "      <th>1</th>\n",
       "      <td>0.02731</td>\n",
       "      <td>0.0</td>\n",
       "      <td>7.07</td>\n",
       "      <td>0.0</td>\n",
       "      <td>0.469</td>\n",
       "      <td>6.421</td>\n",
       "      <td>78.9</td>\n",
       "      <td>4.9671</td>\n",
       "      <td>2.0</td>\n",
       "      <td>242.0</td>\n",
       "      <td>17.8</td>\n",
       "      <td>396.90</td>\n",
       "      <td>9.14</td>\n",
       "      <td>21.6</td>\n",
       "    </tr>\n",
       "    <tr>\n",
       "      <th>2</th>\n",
       "      <td>0.02729</td>\n",
       "      <td>0.0</td>\n",
       "      <td>7.07</td>\n",
       "      <td>0.0</td>\n",
       "      <td>0.469</td>\n",
       "      <td>7.185</td>\n",
       "      <td>61.1</td>\n",
       "      <td>4.9671</td>\n",
       "      <td>2.0</td>\n",
       "      <td>242.0</td>\n",
       "      <td>17.8</td>\n",
       "      <td>392.83</td>\n",
       "      <td>4.03</td>\n",
       "      <td>34.7</td>\n",
       "    </tr>\n",
       "    <tr>\n",
       "      <th>3</th>\n",
       "      <td>0.03237</td>\n",
       "      <td>0.0</td>\n",
       "      <td>2.18</td>\n",
       "      <td>0.0</td>\n",
       "      <td>0.458</td>\n",
       "      <td>6.998</td>\n",
       "      <td>45.8</td>\n",
       "      <td>6.0622</td>\n",
       "      <td>3.0</td>\n",
       "      <td>222.0</td>\n",
       "      <td>18.7</td>\n",
       "      <td>394.63</td>\n",
       "      <td>2.94</td>\n",
       "      <td>33.4</td>\n",
       "    </tr>\n",
       "    <tr>\n",
       "      <th>4</th>\n",
       "      <td>0.06905</td>\n",
       "      <td>0.0</td>\n",
       "      <td>2.18</td>\n",
       "      <td>0.0</td>\n",
       "      <td>0.458</td>\n",
       "      <td>7.147</td>\n",
       "      <td>54.2</td>\n",
       "      <td>6.0622</td>\n",
       "      <td>3.0</td>\n",
       "      <td>222.0</td>\n",
       "      <td>18.7</td>\n",
       "      <td>396.90</td>\n",
       "      <td>5.33</td>\n",
       "      <td>36.2</td>\n",
       "    </tr>\n",
       "  </tbody>\n",
       "</table>\n",
       "</div>"
      ],
      "text/plain": [
       "      CRIM    ZN  INDUS  CHAS    NOX     RM   AGE     DIS  RAD    TAX  \\\n",
       "0  0.00632  18.0   2.31   0.0  0.538  6.575  65.2  4.0900  1.0  296.0   \n",
       "1  0.02731   0.0   7.07   0.0  0.469  6.421  78.9  4.9671  2.0  242.0   \n",
       "2  0.02729   0.0   7.07   0.0  0.469  7.185  61.1  4.9671  2.0  242.0   \n",
       "3  0.03237   0.0   2.18   0.0  0.458  6.998  45.8  6.0622  3.0  222.0   \n",
       "4  0.06905   0.0   2.18   0.0  0.458  7.147  54.2  6.0622  3.0  222.0   \n",
       "\n",
       "   PTRATIO       B  LSTAT     y  \n",
       "0     15.3  396.90   4.98  24.0  \n",
       "1     17.8  396.90   9.14  21.6  \n",
       "2     17.8  392.83   4.03  34.7  \n",
       "3     18.7  394.63   2.94  33.4  \n",
       "4     18.7  396.90   5.33  36.2  "
      ]
     },
     "metadata": {},
     "output_type": "display_data"
    }
   ],
   "source": [
    "# 計算用ライブラリ\n",
    "import pandas as pd\n",
    "# 表出力用ライブラリ\n",
    "from IPython.core.display import display\n",
    "# load_bostonデータの読み込み\n",
    "from sklearn.datasets import load_boston\n",
    "\n",
    "dataset = load_boston()\n",
    "print(dataset.keys())\n",
    "# 下記でshapeを確認一致するためデータフレームにそのままセットできる\n",
    "print('dataのshape：',dataset.data.shape)\n",
    "print('feature_namesのshape：',dataset.feature_names.shape)\n",
    "\n",
    "# データフレームにデータをセット\n",
    "# Dataframeは多次元の場合に使用、第一引数にデータ,colunsにカラム名をセットする\n",
    "X = pd.DataFrame(dataset.data, columns=dataset.feature_names)\n",
    "# Seriesは1次元の場合に使用\n",
    "y = pd.Series(dataset.target, name='y')\n",
    "\n",
    "print('-------------------------------')\n",
    "# 行列の確認\n",
    "print(f'X shape:{X.shape}')\n",
    "print('-------------------------------')\n",
    "# 基礎統計の確認\n",
    "print(y.describe())\n",
    "display(X.join(y).head())"
   ]
  },
  {
   "cell_type": "markdown",
   "metadata": {},
   "source": [
    "### モデルの作成と評価 GradientBoostingRegressor"
   ]
  },
  {
   "cell_type": "code",
   "execution_count": 34,
   "metadata": {},
   "outputs": [
    {
     "data": {
      "text/plain": [
       "array([25.90772604, 21.96320179, 33.92712155, 34.14528061, 35.41267912,\n",
       "       26.7925396 , 21.48031031, 20.87839556, 16.95411564, 18.45898255])"
      ]
     },
     "metadata": {},
     "output_type": "display_data"
    },
    {
     "name": "stdout",
     "output_type": "stream",
     "text": [
      "R2 score:0.9761405838418584\n"
     ]
    }
   ],
   "source": [
    "# 勾配ブースティングレグレッサーの読み込み\n",
    "from sklearn.ensemble import GradientBoostingRegressor\n",
    "\n",
    "# GradientBoostingRegressorのインスタンスを作成\n",
    "est = GradientBoostingRegressor(n_estimators=100, max_depth=3, random_state=0)\n",
    "# パラメーターをセットしている、max-depthは決定木の深さ、random_stateには何かを入れることに意義がある、n_estimatorsはxのデータ\n",
    "\n",
    "# 学習\n",
    "est.fit(X, y)\n",
    "# .fitで学習開始、estは学習後のモデル\n",
    "\n",
    "# 再予測\n",
    "y_pred = est.predict(X)\n",
    "display(y_pred[:10])\n",
    "\n",
    "# 整合性をR2値で評価\n",
    "from sklearn.metrics import r2_score\n",
    "r2 = r2_score(y, y_pred)\n",
    "print(f'R2 score:{r2}')\n",
    "# 1に近いほど良いモデル、R2_scoreで評価"
   ]
  },
  {
   "cell_type": "markdown",
   "metadata": {},
   "source": [
    "### 汎化性能を上昇させる"
   ]
  },
  {
   "cell_type": "code",
   "execution_count": 45,
   "metadata": {},
   "outputs": [
    {
     "name": "stdout",
     "output_type": "stream",
     "text": [
      "X_train, X_test (404, 13) (102, 13)\n",
      "y_train, y_test (404,) (102,)\n",
      "Train Score(r2_est_max_depth3, r2_est_max_depth10):(0.977914662228525,0.9999999976745703)\n",
      "Test Score(r2_est_max_depth3_test, r2_est_max_depth10_test):(0.9247384834677614,0.8384352559543518)\n"
     ]
    }
   ],
   "source": [
    "# モデルをテストデータと訓練データに分けるライブラリ\n",
    "from sklearn.model_selection import train_test_split\n",
    "\n",
    "# ホールドアウト法\n",
    "# 訓練データを80%テストデータを20%に分割する\n",
    "X_train, X_test, y_train, y_test = train_test_split(X, y, test_size=0.20, random_state=1)\n",
    "print('X_train, X_test', X_train.shape, X_test.shape)\n",
    "print('y_train, y_test', y_train.shape, y_test.shape)\n",
    "\n",
    "# 訓練データを用い学習\n",
    "# max_depthを変更し汎化性能の比較を行う\n",
    "est_max_depth3 = GradientBoostingRegressor(max_depth=3, random_state=0)\n",
    "est_max_depth3.fit(X_train, y_train)\n",
    "est_max_depth10 = GradientBoostingRegressor(max_depth=10, random_state=0)\n",
    "est_max_depth10.fit(X_train, y_train)\n",
    "\n",
    "# モデルの評価\n",
    "# R2の取得\n",
    "# 訓練データで再予測したモデルを評価\n",
    "r2_est_max_depth3 = r2_score(y_train, est_max_depth3.predict(X_train))\n",
    "r2_est_max_depth10 = r2_score(y_train, est_max_depth10.predict(X_train))\n",
    "# テストデータで予測したモデルを評価\n",
    "r2_est_max_depth3_test = r2_score(y_test, est_max_depth3.predict(X_test))\n",
    "r2_est_max_depth10_test = r2_score(y_test, est_max_depth10.predict(X_test))\n",
    "\n",
    "# 性能指標の表示\n",
    "print(f'Train Score(r2_est_max_depth3, r2_est_max_depth10):({r2_est_max_depth3},{r2_est_max_depth10})')\n",
    "print(f'Test Score(r2_est_max_depth3_test, r2_est_max_depth10_test):({r2_est_max_depth3_test},{r2_est_max_depth10_test})')"
   ]
  }
 ],
 "metadata": {
  "kernelspec": {
   "display_name": "Python 3",
   "language": "python",
   "name": "python3"
  },
  "language_info": {
   "codemirror_mode": {
    "name": "ipython",
    "version": 3
   },
   "file_extension": ".py",
   "mimetype": "text/x-python",
   "name": "python",
   "nbconvert_exporter": "python",
   "pygments_lexer": "ipython3",
   "version": "3.7.3"
  }
 },
 "nbformat": 4,
 "nbformat_minor": 2
}
