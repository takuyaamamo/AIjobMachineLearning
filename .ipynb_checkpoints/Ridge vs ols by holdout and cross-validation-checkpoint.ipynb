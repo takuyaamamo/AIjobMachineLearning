{
 "cells": [
  {
   "cell_type": "markdown",
   "metadata": {},
   "source": [
    "## 最小二乗回帰とリッジ回帰のモデル性能を比較する"
   ]
  },
  {
   "cell_type": "code",
   "execution_count": 6,
   "metadata": {},
   "outputs": [
    {
     "name": "stdout",
     "output_type": "stream",
     "text": [
      "--------------------------------------\n",
      "X shape: (506, 13)\n",
      "y shape: (506,)\n",
      "y describe: count    506.000000\n",
      "mean      22.532806\n",
      "std        9.197104\n",
      "min        5.000000\n",
      "25%       17.025000\n",
      "50%       21.200000\n",
      "75%       25.000000\n",
      "max       50.000000\n",
      "Name: y, dtype: float64\n",
      "--------------------------------------\n"
     ]
    },
    {
     "data": {
      "text/html": [
       "<div>\n",
       "<style scoped>\n",
       "    .dataframe tbody tr th:only-of-type {\n",
       "        vertical-align: middle;\n",
       "    }\n",
       "\n",
       "    .dataframe tbody tr th {\n",
       "        vertical-align: top;\n",
       "    }\n",
       "\n",
       "    .dataframe thead th {\n",
       "        text-align: right;\n",
       "    }\n",
       "</style>\n",
       "<table border=\"1\" class=\"dataframe\">\n",
       "  <thead>\n",
       "    <tr style=\"text-align: right;\">\n",
       "      <th></th>\n",
       "      <th>CRIM</th>\n",
       "      <th>ZN</th>\n",
       "      <th>INDUS</th>\n",
       "      <th>CHAS</th>\n",
       "      <th>NOX</th>\n",
       "      <th>RM</th>\n",
       "      <th>AGE</th>\n",
       "      <th>DIS</th>\n",
       "      <th>RAD</th>\n",
       "      <th>TAX</th>\n",
       "      <th>PTRATIO</th>\n",
       "      <th>B</th>\n",
       "      <th>LSTAT</th>\n",
       "      <th>y</th>\n",
       "    </tr>\n",
       "  </thead>\n",
       "  <tbody>\n",
       "    <tr>\n",
       "      <th>0</th>\n",
       "      <td>0.00632</td>\n",
       "      <td>18.0</td>\n",
       "      <td>2.31</td>\n",
       "      <td>0.0</td>\n",
       "      <td>0.538</td>\n",
       "      <td>6.575</td>\n",
       "      <td>65.2</td>\n",
       "      <td>4.0900</td>\n",
       "      <td>1.0</td>\n",
       "      <td>296.0</td>\n",
       "      <td>15.3</td>\n",
       "      <td>396.90</td>\n",
       "      <td>4.98</td>\n",
       "      <td>24.0</td>\n",
       "    </tr>\n",
       "    <tr>\n",
       "      <th>1</th>\n",
       "      <td>0.02731</td>\n",
       "      <td>0.0</td>\n",
       "      <td>7.07</td>\n",
       "      <td>0.0</td>\n",
       "      <td>0.469</td>\n",
       "      <td>6.421</td>\n",
       "      <td>78.9</td>\n",
       "      <td>4.9671</td>\n",
       "      <td>2.0</td>\n",
       "      <td>242.0</td>\n",
       "      <td>17.8</td>\n",
       "      <td>396.90</td>\n",
       "      <td>9.14</td>\n",
       "      <td>21.6</td>\n",
       "    </tr>\n",
       "    <tr>\n",
       "      <th>2</th>\n",
       "      <td>0.02729</td>\n",
       "      <td>0.0</td>\n",
       "      <td>7.07</td>\n",
       "      <td>0.0</td>\n",
       "      <td>0.469</td>\n",
       "      <td>7.185</td>\n",
       "      <td>61.1</td>\n",
       "      <td>4.9671</td>\n",
       "      <td>2.0</td>\n",
       "      <td>242.0</td>\n",
       "      <td>17.8</td>\n",
       "      <td>392.83</td>\n",
       "      <td>4.03</td>\n",
       "      <td>34.7</td>\n",
       "    </tr>\n",
       "    <tr>\n",
       "      <th>3</th>\n",
       "      <td>0.03237</td>\n",
       "      <td>0.0</td>\n",
       "      <td>2.18</td>\n",
       "      <td>0.0</td>\n",
       "      <td>0.458</td>\n",
       "      <td>6.998</td>\n",
       "      <td>45.8</td>\n",
       "      <td>6.0622</td>\n",
       "      <td>3.0</td>\n",
       "      <td>222.0</td>\n",
       "      <td>18.7</td>\n",
       "      <td>394.63</td>\n",
       "      <td>2.94</td>\n",
       "      <td>33.4</td>\n",
       "    </tr>\n",
       "    <tr>\n",
       "      <th>4</th>\n",
       "      <td>0.06905</td>\n",
       "      <td>0.0</td>\n",
       "      <td>2.18</td>\n",
       "      <td>0.0</td>\n",
       "      <td>0.458</td>\n",
       "      <td>7.147</td>\n",
       "      <td>54.2</td>\n",
       "      <td>6.0622</td>\n",
       "      <td>3.0</td>\n",
       "      <td>222.0</td>\n",
       "      <td>18.7</td>\n",
       "      <td>396.90</td>\n",
       "      <td>5.33</td>\n",
       "      <td>36.2</td>\n",
       "    </tr>\n",
       "  </tbody>\n",
       "</table>\n",
       "</div>"
      ],
      "text/plain": [
       "      CRIM    ZN  INDUS  CHAS    NOX     RM   AGE     DIS  RAD    TAX  \\\n",
       "0  0.00632  18.0   2.31   0.0  0.538  6.575  65.2  4.0900  1.0  296.0   \n",
       "1  0.02731   0.0   7.07   0.0  0.469  6.421  78.9  4.9671  2.0  242.0   \n",
       "2  0.02729   0.0   7.07   0.0  0.469  7.185  61.1  4.9671  2.0  242.0   \n",
       "3  0.03237   0.0   2.18   0.0  0.458  6.998  45.8  6.0622  3.0  222.0   \n",
       "4  0.06905   0.0   2.18   0.0  0.458  7.147  54.2  6.0622  3.0  222.0   \n",
       "\n",
       "   PTRATIO       B  LSTAT     y  \n",
       "0     15.3  396.90   4.98  24.0  \n",
       "1     17.8  396.90   9.14  21.6  \n",
       "2     17.8  392.83   4.03  34.7  \n",
       "3     18.7  394.63   2.94  33.4  \n",
       "4     18.7  396.90   5.33  36.2  "
      ]
     },
     "metadata": {},
     "output_type": "display_data"
    }
   ],
   "source": [
    "# ボストン・ハウジングデータの読み込み\n",
    "import pandas as pd\n",
    "from IPython.core.display import display\n",
    "from sklearn.datasets import load_boston\n",
    "\n",
    "dataset = load_boston()\n",
    "X = pd.DataFrame(dataset.data, columns=dataset.feature_names)\n",
    "y = pd.Series(dataset.target, name='y')\n",
    "\n",
    "print('--------------------------------------')\n",
    "print(f'X shape: {X.shape}')\n",
    "print(f'y shape: {y.shape}')\n",
    "print(f'y describe: {y.describe()}')\n",
    "print('--------------------------------------')\n",
    "display(X.join(y).head())"
   ]
  },
  {
   "cell_type": "markdown",
   "metadata": {},
   "source": [
    "### まずはホールド・アウト法による比較"
   ]
  },
  {
   "cell_type": "code",
   "execution_count": 42,
   "metadata": {},
   "outputs": [
    {
     "name": "stdout",
     "output_type": "stream",
     "text": [
      "pipelines.items()だと: dict_items([('ols', Pipeline(memory=None,\n",
      "     steps=[('scl', StandardScaler(copy=True, with_mean=True, with_std=True)), ('est', LinearRegression(copy_X=True, fit_intercept=True, n_jobs=None,\n",
      "         normalize=False))])), ('ridge1', Pipeline(memory=None,\n",
      "     steps=[('scl', StandardScaler(copy=True, with_mean=True, with_std=True)), ('est', Ridge(alpha=1.0, copy_X=True, fit_intercept=True, max_iter=None,\n",
      "   normalize=False, random_state=None, solver='auto', tol=0.001))])), ('ridge2', Pipeline(memory=None,\n",
      "     steps=[('scl', StandardScaler(copy=True, with_mean=True, with_std=True)), ('est', Ridge(alpha=20.0, copy_X=True, fit_intercept=True, max_iter=None,\n",
      "   normalize=False, random_state=None, solver='auto', tol=0.001))]))])\n"
     ]
    },
    {
     "data": {
      "text/plain": [
       "train  ols       0.729359\n",
       "test   ols       0.763417\n",
       "train  ridge1    0.729336\n",
       "test   ridge1    0.763404\n",
       "train  ridge2    0.725291\n",
       "test   ridge2    0.758157\n",
       "dtype: float64"
      ]
     },
     "metadata": {},
     "output_type": "display_data"
    },
    {
     "data": {
      "text/html": [
       "<div>\n",
       "<style scoped>\n",
       "    .dataframe tbody tr th:only-of-type {\n",
       "        vertical-align: middle;\n",
       "    }\n",
       "\n",
       "    .dataframe tbody tr th {\n",
       "        vertical-align: top;\n",
       "    }\n",
       "\n",
       "    .dataframe thead th {\n",
       "        text-align: right;\n",
       "    }\n",
       "</style>\n",
       "<table border=\"1\" class=\"dataframe\">\n",
       "  <thead>\n",
       "    <tr style=\"text-align: right;\">\n",
       "      <th></th>\n",
       "      <th>ols</th>\n",
       "      <th>ridge1</th>\n",
       "      <th>ridge2</th>\n",
       "    </tr>\n",
       "  </thead>\n",
       "  <tbody>\n",
       "    <tr>\n",
       "      <th>test</th>\n",
       "      <td>0.763417</td>\n",
       "      <td>0.763404</td>\n",
       "      <td>0.758157</td>\n",
       "    </tr>\n",
       "    <tr>\n",
       "      <th>train</th>\n",
       "      <td>0.729359</td>\n",
       "      <td>0.729336</td>\n",
       "      <td>0.725291</td>\n",
       "    </tr>\n",
       "  </tbody>\n",
       "</table>\n",
       "</div>"
      ],
      "text/plain": [
       "            ols    ridge1    ridge2\n",
       "test   0.763417  0.763404  0.758157\n",
       "train  0.729359  0.729336  0.725291"
      ]
     },
     "metadata": {},
     "output_type": "display_data"
    },
    {
     "name": "stdout",
     "output_type": "stream",
     "text": [
      "OLS coefficient total: 22.063407830429327\n",
      "Ridge1 coefficient total: 21.710242230056654\n",
      "Ridge2 coefficient total: 18.013609198722936\n",
      "[-1.02670073  1.35041325  0.12557673  0.57522815 -2.28609206  2.13083882\n",
      "  0.12702443 -3.17856741  2.64730569 -1.87781254 -2.14296387  0.6693739\n",
      " -3.92551025]\n"
     ]
    },
    {
     "data": {
      "text/plain": [
       "\"\\ncoef_でpipelines['ols'].named_steps['est']で表示した回帰モデルの変数を取り出している。\\nnp.absoluteで絶対値に変換した後sumで合計をする\\n\""
      ]
     },
     "execution_count": 42,
     "metadata": {},
     "output_type": "execute_result"
    }
   ],
   "source": [
    "import numpy as np\n",
    "# 標準化ライブラリ\n",
    "from sklearn.preprocessing import StandardScaler\n",
    "# 線形回帰モデルとL2正則化を呼び出し\n",
    "from sklearn.linear_model import LinearRegression, Ridge\n",
    "# 複数のモデルを1行で書けるライブラリ\n",
    "from sklearn.pipeline import Pipeline\n",
    "from sklearn.model_selection import train_test_split\n",
    "from sklearn.metrics import r2_score\n",
    "\n",
    "# ホールドアウトにより訓練データとテストデータに分割\n",
    "X_train, X_test, y_train, y_test = train_test_split(X, y, test_size=0.20, random_state=1)\n",
    "\n",
    "# パイプラインを使用し一連の流れを１行で行えるようにする。\n",
    "# この場合sclを行い、estする順番で3つ行う記述となる\n",
    "pipelines = {\n",
    "#     ols:Ordinary Least Squares（最小二乗回帰）,scl:Scaler（）, est:estimater（）\n",
    "    'ols': Pipeline([('scl', StandardScaler()), ('est', LinearRegression())]),\n",
    "#     R2回帰はαを1と20で比べる\n",
    "    'ridge1': Pipeline([('scl', StandardScaler()), ('est', Ridge(alpha=1.0))]),\n",
    "    'ridge2': Pipeline([('scl', StandardScaler()), ('est', Ridge(alpha=20.0))])\n",
    "}\n",
    "print('pipelines.items()だと:', pipelines.items())\n",
    "# 学習と評価をpipelineを使用し一気に行う\n",
    "scores = {}\n",
    "# pipeline3つを繰り返す\n",
    "for pipe_name, est in pipelines.items():\n",
    "#     学習\n",
    "    est.fit(X_train, y_train)\n",
    "#     訓練データで再予測の後r2_scoreで評価\n",
    "    scores[('train', pipe_name)] = r2_score(y_train, est.predict(X_train))\n",
    "#     テストデータで予測の後r2_scoreで評価\n",
    "    scores[('test', pipe_name)] = r2_score(y_test, est.predict(X_test))\n",
    "\n",
    "display(pd.Series(scores))\n",
    "display(pd.Series(scores).unstack())\n",
    "\n",
    "#パラメータの重さを比べてみる\n",
    "# 回帰係数の総和を比較する\n",
    "print('OLS coefficient total:', np.absolute(pipelines['ols'].named_steps['est'].coef_).sum())\n",
    "print('Ridge1 coefficient total:', np.absolute(pipelines['ridge1'].named_steps['est'].coef_).sum())\n",
    "print('Ridge2 coefficient total:', np.absolute(pipelines['ridge2'].named_steps['est'].coef_).sum())\n",
    "# 重みは減少しているのがわかる\n",
    "# 解説\n",
    "print(pipelines['ols'].named_steps['est'].coef_)\n",
    "'''\n",
    "coef_でpipelines['ols'].named_steps['est']で表示した回帰モデルの変数を取り出している。\n",
    "np.absoluteで絶対値に変換した後sumで合計をする\n",
    "'''"
   ]
  },
  {
   "cell_type": "markdown",
   "metadata": {},
   "source": [
    "### 交差検証（k-fold法）による比較"
   ]
  },
  {
   "cell_type": "code",
   "execution_count": 44,
   "metadata": {},
   "outputs": [
    {
     "name": "stdout",
     "output_type": "stream",
     "text": [
      "------------------\n",
      "algorithm: ols\n",
      "cv_results: [ 0.63919994  0.71386698  0.58702344  0.07923081 -0.25294154]\n",
      "avg +- std_dev 0.35327592439588207 +- 0.376567839332623\n",
      "------------------\n",
      "algorithm: ridge1\n",
      "cv_results: [ 0.64344111  0.71648023  0.58788768  0.08218971 -0.23681375]\n",
      "avg +- std_dev 0.3586369955712164 +- 0.37221115867544047\n",
      "------------------\n",
      "algorithm: ridge2\n",
      "cv_results: [ 0.69338962  0.74221138  0.59160501  0.12868283 -0.04192937]\n",
      "avg +- std_dev 0.42279189511615056 +- 0.31818730396014017\n"
     ]
    }
   ],
   "source": [
    "# 交差検証法を呼び出す\n",
    "from sklearn.model_selection import cross_val_score\n",
    "\n",
    "# パイプラインは同じものを使用できる\n",
    "scores = {}\n",
    "for pipe_name, est in pipelines.items():\n",
    "#     estでLinerRegressionを指定,Xは訓練データの指定（dfで入れたばかりのやつ）,yも左記と同じ,cvはデータの分割回数, scoringもしてくれる\n",
    "    cv_results = cross_val_score(est, X, y, cv=5, scoring='r2')\n",
    "    print('------------------')\n",
    "    print('algorithm:', pipe_name)\n",
    "#     分割した一個一個の結果\n",
    "    print('cv_results:', cv_results)\n",
    "#     平均と標準偏差\n",
    "    print('avg +- std_dev', cv_results.mean(), '+-', cv_results.std())\n",
    "# リッジ回帰2が一番良いとわかる"
   ]
  }
 ],
 "metadata": {
  "kernelspec": {
   "display_name": "Python 3",
   "language": "python",
   "name": "python3"
  },
  "language_info": {
   "codemirror_mode": {
    "name": "ipython",
    "version": 3
   },
   "file_extension": ".py",
   "mimetype": "text/x-python",
   "name": "python",
   "nbconvert_exporter": "python",
   "pygments_lexer": "ipython3",
   "version": "3.7.3"
  }
 },
 "nbformat": 4,
 "nbformat_minor": 2
}
